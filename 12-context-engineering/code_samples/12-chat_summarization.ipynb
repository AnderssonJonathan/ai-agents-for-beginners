{
  "cells": [
    {
      "cell_type": "markdown",
      "metadata": {},
      "source": [
        "# Chat History Reduction with Agent Scratchpad in Semantic Kernel\n",
        "\n",
        "This notebook demonstrates how to use Semantic Kernel's Chat History Reduction feature along with an agent scratchpad for maintaining context across conversations. This is essential for building efficient AI agents that can handle long conversations without exceeding token limits.\n",
        "\n",
        "## What You'll Learn:\n",
        "1. **Chat History Reduction**: How to automatically summarize conversation history to manage token usage\n",
        "2. **Agent Scratchpad**: A persistent memory system for tracking user preferences and completed tasks\n",
        "3. **Token Usage Tracking**: Monitor how token usage changes with and without history reduction\n",
        "\n",
        "## Prerequisites:\n",
        "- Azure OpenAI setup with environment variables configured\n",
        "- Understanding of basic agent concepts from previous lessons"
      ]
    },
    {
      "cell_type": "markdown",
      "metadata": {},
      "source": [
        "## Import Required Packages"
      ]
    },
    {
      "cell_type": "code",
      "execution_count": 1,
      "metadata": {},
      "outputs": [],
      "source": [
        "# Import necessary packages\n",
        "import json\n",
        "import os\n",
        "import asyncio\n",
        "from datetime import datetime\n",
        "from pathlib import Path\n",
        "\n",
        "from dotenv import load_dotenv\n",
        "from IPython.display import display, HTML, Markdown\n",
        "from typing import Annotated, Optional\n",
        "\n",
        "from semantic_kernel.agents import ChatCompletionAgent, ChatHistoryAgentThread\n",
        "from semantic_kernel.connectors.ai.open_ai import AzureChatCompletion\n",
        "from semantic_kernel.connectors.ai.completion_usage import CompletionUsage\n",
        "from semantic_kernel.contents import ChatHistorySummarizationReducer\n",
        "from semantic_kernel.functions import kernel_function"
      ]
    },
    {
      "cell_type": "markdown",
      "metadata": {},
      "source": [
        "## Understanding Agent Scratchpad\n",
        "\n",
        "### What is an Agent Scratchpad?\n",
        "\n",
        "An **Agent Scratchpad** is a persistent memory system that agents use to:\n",
        "- **Track completed tasks**: Record what has been done for the user\n",
        "- **Store user preferences**: Remember likes, dislikes, and requirements\n",
        "- **Maintain context**: Keep important information accessible across conversations\n",
        "- **Reduce redundancy**: Avoid asking the same questions repeatedly\n",
        "\n",
        "### How it Works:\n",
        "1. **Write Operations**: Agent updates the scratchpad after learning new information\n",
        "2. **Read Operations**: Agent consults the scratchpad when making decisions\n",
        "3. **Persistence**: Information survives even when chat history is reduced\n",
        "\n",
        "Think of it as the agent's personal notebook that complements the conversation history."
      ]
    },
    {
      "cell_type": "markdown",
      "metadata": {},
      "source": [
        "## Environment Configuration"
      ]
    },
    {
      "cell_type": "code",
      "execution_count": 2,
      "metadata": {},
      "outputs": [
        {
          "name": "stdout",
          "output_type": "stream",
          "text": [
            "✅ Azure OpenAI service configured\n"
          ]
        }
      ],
      "source": [
        "# Load environment variables\n",
        "load_dotenv()\n",
        "\n",
        "# Create Azure OpenAI service\n",
        "chat_service = AzureChatCompletion(\n",
        "    deployment_name=os.getenv(\"AZURE_OPENAI_CHAT_DEPLOYMENT_NAME\"),\n",
        "    endpoint=os.getenv(\"AZURE_OPENAI_ENDPOINT\"),\n",
        "    api_key=os.getenv(\"AZURE_OPENAI_API_KEY\"),\n",
        ")\n",
        "\n",
        "print(\"✅ Azure OpenAI service configured\")"
      ]
    },
    {
      "cell_type": "markdown",
      "metadata": {},
      "source": [
        "## Create the Agent Scratchpad Plugin\n",
        "\n",
        "This plugin allows the agent to read and write to a persistent scratchpad file."
      ]
    },
    {
      "cell_type": "code",
      "execution_count": null,
      "metadata": {},
      "outputs": [
        {
          "name": "stdout",
          "output_type": "stream",
          "text": [
            "📝 Scratchpad plugin created\n"
          ]
        }
      ],
      "source": [
        "class ScratchpadPlugin:\n",
        "    \"\"\"Plugin for managing agent scratchpad - a persistent memory for user preferences and completed tasks\"\"\"\n",
        "    \n",
        "    def __init__(self, filepath: str = \"agent_scratchpad.md\"):\n",
        "        self.filepath = Path(filepath)\n",
        "        # Initialize scratchpad if it doesn't exist\n",
        "        if not self.filepath.exists():\n",
        "            self.filepath.write_text(\"# Agent Scratchpad\\n\\n## User Preferences\\n\\n## Completed Tasks\\n\\n\")\n",
        "    \n",
        "    @kernel_function(\n",
        "        description=\"Read the current agent scratchpad to get user's travel preferences and completed tasks\"\n",
        "    )\n",
        "    def read_scratchpad(self) -> Annotated[str, \"The contents of the agent scratchpad\"]:\n",
        "        \"\"\"Read the current scratchpad contents\"\"\"\n",
        "        return self.filepath.read_text()\n",
        "    \n",
        "    @kernel_function(\n",
        "        description=\"Update the agent scratchpad with new user's travel preference or completed tasks\"\n",
        "    )\n",
        "    def update_scratchpad(\n",
        "        self,\n",
        "        category: Annotated[str, \"Category to update: 'preferences' or 'tasks'\"],\n",
        "        content: Annotated[str, \"The new content to add\"]\n",
        "    ) -> Annotated[str, \"Confirmation of the update\"]:\n",
        "        \"\"\"Update the scratchpad with new information\"\"\"\n",
        "        current_content = self.filepath.read_text()\n",
        "        timestamp = datetime.now().strftime(\"%Y-%m-%d %H:%M:%S\")\n",
        "        \n",
        "        if category.lower() == \"preferences\":\n",
        "            # Find the preferences section and append\n",
        "            lines = current_content.split(\"\\n\")\n",
        "            for i, line in enumerate(lines):\n",
        "                if \"## User Preferences\" in line:\n",
        "                    lines.insert(i + 1, f\"\\n- [{timestamp}] {content}\")\n",
        "                    break\n",
        "            current_content = \"\\n\".join(lines)\n",
        "        elif category.lower() == \"tasks\":\n",
        "            # Find the tasks section and append\n",
        "            lines = current_content.split(\"\\n\")\n",
        "            for i, line in enumerate(lines):\n",
        "                if \"## Completed Tasks\" in line:\n",
        "                    lines.insert(i + 1, f\"\\n- [{timestamp}] {content}\")\n",
        "                    break\n",
        "            current_content = \"\\n\".join(lines)\n",
        "        \n",
        "        self.filepath.write_text(current_content)\n",
        "        return f\"✅ Scratchpad updated with {category}: {content}\"\n",
        "\n",
        "# Create the scratchpad plugin\n",
        "scratchpad_plugin = ScratchpadPlugin(\"vacation_agent_scratchpad.md\")\n",
        "print(\"📝 Scratchpad plugin created\")"
      ]
    },
    {
      "cell_type": "markdown",
      "metadata": {},
      "source": [
        "## Initialize Chat History Reducer\n",
        "\n",
        "The ChatHistorySummarizationReducer automatically summarizes conversation history when it exceeds a threshold."
      ]
    },
    {
      "cell_type": "code",
      "execution_count": 26,
      "metadata": {},
      "outputs": [
        {
          "name": "stdout",
          "output_type": "stream",
          "text": [
            "🔄 Chat History Reducer configured:\n",
            "   - Reduction triggered at: 20 messages\n",
            "   - Reduces history to: 5 messages\n"
          ]
        }
      ],
      "source": [
        "# Configure reduction parameters\n",
        "REDUCER_TARGET_COUNT = 5  # Target number of messages to keep after reduction\n",
        "REDUCER_THRESHOLD = 20    # Trigger reduction when message count exceeds this\n",
        "\n",
        "# Create the history summarization reducer\n",
        "history_reducer = ChatHistorySummarizationReducer(\n",
        "    service=chat_service,\n",
        "    target_count=REDUCER_TARGET_COUNT,\n",
        "    threshold_count=REDUCER_THRESHOLD,\n",
        ")\n",
        "\n",
        "print(f\"🔄 Chat History Reducer configured:\")\n",
        "print(f\"   - Reduction triggered at: {REDUCER_THRESHOLD} messages\")\n",
        "print(f\"   - Reduces history to: {REDUCER_TARGET_COUNT} messages\")"
      ]
    },
    {
      "cell_type": "markdown",
      "metadata": {},
      "source": [
        "## Create the Vacation Planning Agent\n",
        "\n",
        "This agent will help users plan vacations while maintaining context through the scratchpad."
      ]
    },
    {
      "cell_type": "code",
      "execution_count": 27,
      "metadata": {},
      "outputs": [
        {
          "name": "stdout",
          "output_type": "stream",
          "text": [
            "🤖 Vacation Planning Agent created with scratchpad access\n"
          ]
        }
      ],
      "source": [
        "# Create the vacation planning agent with detailed instructions\n",
        "agent = ChatCompletionAgent(\n",
        "    service=chat_service,\n",
        "    name=\"VacationPlannerAgent\",\n",
        "    instructions=\"\"\"\n",
        "    You are a helpful vacation planning assistant. Your job is to help users plan their perfect vacation.\n",
        "    \n",
        "    IMPORTANT SCRATCHPAD USAGE:\n",
        "    1. ALWAYS read the scratchpad at the start of planning to check for existing user preferences\n",
        "    2. When you learn new preferences (destination types, activities, budget, travel style), \n",
        "       update the scratchpad with category 'preferences'\n",
        "    3. When you complete a task (like creating an itinerary), update the scratchpad with category 'tasks'\n",
        "    4. Before creating a new itinerary, ALWAYS check the scratchpad for user preferences\n",
        "    \n",
        "    PLANNING PROCESS:\n",
        "    1. Ask about destination preferences if not in scratchpad\n",
        "    2. Ask about travel dates, budget, and activities they enjoy\n",
        "    3. Create detailed day-by-day itineraries\n",
        "    4. Be ready to adapt plans based on user feedback\n",
        "    \n",
        "    Format itineraries with clear structure:\n",
        "    - Day headers\n",
        "    - Morning/Afternoon/Evening activities\n",
        "    - Estimated costs\n",
        "    - Travel tips\n",
        "    \"\"\",\n",
        "    plugins=[scratchpad_plugin],\n",
        ")\n",
        "\n",
        "print(\"🤖 Vacation Planning Agent created with scratchpad access\")"
      ]
    },
    {
      "cell_type": "markdown",
      "metadata": {},
      "source": [
        "## Helper Functions for Display and Token Tracking"
      ]
    },
    {
      "cell_type": "code",
      "execution_count": 28,
      "metadata": {},
      "outputs": [
        {
          "name": "stdout",
          "output_type": "stream",
          "text": [
            "📊 Token tracking initialized\n"
          ]
        }
      ],
      "source": [
        "# Token tracking class\n",
        "class TokenTracker:\n",
        "    def __init__(self):\n",
        "        self.history = []\n",
        "        self.total_usage = CompletionUsage()\n",
        "        self.reduction_events = []  # Track when reductions occur\n",
        "\n",
        "    def add_usage(self, usage: CompletionUsage, message_num: int, thread_length: int = None):\n",
        "        if usage:\n",
        "            self.total_usage += usage\n",
        "            entry = {\n",
        "                \"message_num\": message_num,\n",
        "                \"prompt_tokens\": usage.prompt_tokens,\n",
        "                \"completion_tokens\": usage.completion_tokens,\n",
        "                \"total_tokens\": usage.prompt_tokens + usage.completion_tokens,\n",
        "                \"cumulative_tokens\": self.total_usage.prompt_tokens + self.total_usage.completion_tokens,\n",
        "                \"thread_length\": thread_length\n",
        "            }\n",
        "            self.history.append(entry)\n",
        "\n",
        "    def mark_reduction(self, message_num: int):\n",
        "        self.reduction_events.append(message_num)\n",
        "\n",
        "    def display_chart(self):\n",
        "        \"\"\"Display a chart showing token usage per message and the impact of reduction\"\"\"\n",
        "        if not self.history:\n",
        "            return\n",
        "\n",
        "        html = \"<div style='font-family: monospace; background: #2d2d2d; color: #f0f0f0; padding: 15px; border-radius: 8px; border: 1px solid #444;'>\"\n",
        "        html += \"<h4 style='color: #4fc3f7; margin-top: 0;'>📊 Token Usage Analysis</h4>\"\n",
        "        html += \"<pre style='color: #f0f0f0; margin: 0;'>\"\n",
        "\n",
        "        # Show prompt tokens per message to see reduction impact\n",
        "        html += \"<span style='color: #81c784;'>Prompt Tokens per Message (shows conversation context size):</span>\\n\"\n",
        "        max_prompt = max(h[\"prompt_tokens\"] for h in self.history)\n",
        "        scale = 50 / max_prompt if max_prompt > 0 else 1\n",
        "\n",
        "        for i, h in enumerate(self.history):\n",
        "            bar_length = int(h[\"prompt_tokens\"] * scale)\n",
        "            bar = \"█\" * bar_length\n",
        "            reduction_marker = \" <span style='color: #ff6b6b;'>← REDUCTION!</span>\" if h[\n",
        "                \"message_num\"] in self.reduction_events else \"\"\n",
        "            html += f\"<span style='color: #aaa;'>Msg {h['message_num']:2d}:</span> <span style='color: #4fc3f7;'>{bar}</span> <span style='color: #ffd93d;'>{h['prompt_tokens']:,} tokens</span>{reduction_marker}\\n\"\n",
        "\n",
        "        html += \"\\n</pre></div>\"\n",
        "        display(HTML(html))\n",
        "\n",
        "        # Calculate reduction impact\n",
        "        if self.reduction_events:\n",
        "            # Find the message before and after first reduction\n",
        "            first_reduction_msg = self.reduction_events[0]\n",
        "            before_reduction = None\n",
        "            after_reduction = None\n",
        "\n",
        "            for h in self.history:\n",
        "                if h[\"message_num\"] == first_reduction_msg - 1:\n",
        "                    before_reduction = h[\"prompt_tokens\"]\n",
        "                elif h[\"message_num\"] == first_reduction_msg:\n",
        "                    after_reduction = h[\"prompt_tokens\"]\n",
        "\n",
        "            if before_reduction and after_reduction:\n",
        "                reduction_amount = before_reduction - after_reduction\n",
        "                reduction_percent = (reduction_amount / before_reduction * 100)\n",
        "                print(f\"\\n🔄 Actual Reduction Impact:\")\n",
        "                print(f\"Prompt tokens before reduction: {before_reduction:,}\")\n",
        "                print(f\"Prompt tokens after reduction: {after_reduction:,}\")\n",
        "                print(\n",
        "                    f\"Tokens saved: {reduction_amount:,} ({reduction_percent:.1f}%)\")\n",
        "\n",
        "# Display function for clean output\n",
        "\n",
        "\n",
        "def display_message(role: str, content: str, color: str = \"#2E8B57\"):\n",
        "    \"\"\"Display a message with nice formatting that works in both light and dark themes\"\"\"\n",
        "    # Use a semi-transparent background that adapts to the theme\n",
        "    html = f\"\"\"\n",
        "    <div style='\n",
        "        margin: 10px 0; \n",
        "        padding: 12px 15px; \n",
        "        border-left: 4px solid {color}; \n",
        "        background: rgba(128, 128, 128, 0.1); \n",
        "        border-radius: 4px;\n",
        "        color: inherit;\n",
        "    '>\n",
        "        <strong style='color: {color}; font-size: 14px;'>{role}:</strong><br>\n",
        "        <div style='margin-top: 8px; white-space: pre-wrap; color: inherit; font-size: 14px;'>{content}</div>\n",
        "    </div>\n",
        "    \"\"\"\n",
        "    display(HTML(html))\n",
        "\n",
        "\n",
        "# Initialize token tracker\n",
        "token_tracker = TokenTracker()\n",
        "print(\"📊 Token tracking initialized\")"
      ]
    },
    {
      "cell_type": "markdown",
      "metadata": {},
      "source": [
        "## Run the Vacation Planning Conversation\n",
        "\n",
        "Now let's run through a complete conversation demonstrating:\n",
        "1. Initial planning request\n",
        "2. Preference gathering\n",
        "3. Itinerary creation\n",
        "4. Location change\n",
        "5. Chat history reduction\n",
        "6. Scratchpad usage"
      ]
    },
    {
      "cell_type": "code",
      "execution_count": 29,
      "metadata": {},
      "outputs": [
        {
          "name": "stdout",
          "output_type": "stream",
          "text": [
            "🚀 Starting Vacation Planning Session\n",
            "\n"
          ]
        },
        {
          "data": {
            "text/html": [
              "\n",
              "    <div style='\n",
              "        margin: 10px 0; \n",
              "        padding: 12px 15px; \n",
              "        border-left: 4px solid #4fc3f7; \n",
              "        background: rgba(128, 128, 128, 0.1); \n",
              "        border-radius: 4px;\n",
              "        color: inherit;\n",
              "    '>\n",
              "        <strong style='color: #4fc3f7; font-size: 14px;'>User:</strong><br>\n",
              "        <div style='margin-top: 8px; white-space: pre-wrap; color: inherit; font-size: 14px;'>I'm thinking about planning a vacation. Can you help me?</div>\n",
              "    </div>\n",
              "    "
            ],
            "text/plain": [
              "<IPython.core.display.HTML object>"
            ]
          },
          "metadata": {},
          "output_type": "display_data"
        },
        {
          "data": {
            "text/html": [
              "\n",
              "    <div style='\n",
              "        margin: 10px 0; \n",
              "        padding: 12px 15px; \n",
              "        border-left: 4px solid #81c784; \n",
              "        background: rgba(128, 128, 128, 0.1); \n",
              "        border-radius: 4px;\n",
              "        color: inherit;\n",
              "    '>\n",
              "        <strong style='color: #81c784; font-size: 14px;'>VacationPlannerAgent:</strong><br>\n",
              "        <div style='margin-top: 8px; white-space: pre-wrap; color: inherit; font-size: 14px;'>Absolutely, I'd be happy to help you plan your perfect vacation! \n",
              "\n",
              "To get started, can you tell me a bit about your preferences? For instance:\n",
              "1. What type of destinations do you enjoy (beaches, mountains, cities, countryside)?\n",
              "2. Do you have any preferred travel dates?\n",
              "3. What's your budget?\n",
              "4. What activities do you enjoy (hiking, relaxing, sightseeing, etc.)?</div>\n",
              "    </div>\n",
              "    "
            ],
            "text/plain": [
              "<IPython.core.display.HTML object>"
            ]
          },
          "metadata": {},
          "output_type": "display_data"
        },
        {
          "name": "stdout",
          "output_type": "stream",
          "text": [
            "📝 Thread has 2 messages\n",
            "   Message types in thread: ['user', 'assistant']\n"
          ]
        },
        {
          "data": {
            "text/html": [
              "\n",
              "    <div style='\n",
              "        margin: 10px 0; \n",
              "        padding: 12px 15px; \n",
              "        border-left: 4px solid #4fc3f7; \n",
              "        background: rgba(128, 128, 128, 0.1); \n",
              "        border-radius: 4px;\n",
              "        color: inherit;\n",
              "    '>\n",
              "        <strong style='color: #4fc3f7; font-size: 14px;'>User:</strong><br>\n",
              "        <div style='margin-top: 8px; white-space: pre-wrap; color: inherit; font-size: 14px;'>I love beach destinations with great food and culture. I enjoy water sports, exploring local markets, and trying authentic cuisine. My budget is around $3000 per person for a week.</div>\n",
              "    </div>\n",
              "    "
            ],
            "text/plain": [
              "<IPython.core.display.HTML object>"
            ]
          },
          "metadata": {},
          "output_type": "display_data"
        },
        {
          "data": {
            "text/html": [
              "\n",
              "    <div style='\n",
              "        margin: 10px 0; \n",
              "        padding: 12px 15px; \n",
              "        border-left: 4px solid #81c784; \n",
              "        background: rgba(128, 128, 128, 0.1); \n",
              "        border-radius: 4px;\n",
              "        color: inherit;\n",
              "    '>\n",
              "        <strong style='color: #81c784; font-size: 14px;'>VacationPlannerAgent:</strong><br>\n",
              "        <div style='margin-top: 8px; white-space: pre-wrap; color: inherit; font-size: 14px;'>Great! I've noted your preferences for beach destinations with great food and culture, water sports, local markets, and authentic cuisine, along with your budget of $3000 per person for a week.\n",
              "\n",
              "Now, could you please let me know your preferred travel dates or the time of year you'd like to go on this vacation?</div>\n",
              "    </div>\n",
              "    "
            ],
            "text/plain": [
              "<IPython.core.display.HTML object>"
            ]
          },
          "metadata": {},
          "output_type": "display_data"
        },
        {
          "name": "stdout",
          "output_type": "stream",
          "text": [
            "📝 Thread has 6 messages\n"
          ]
        },
        {
          "data": {
            "text/html": [
              "\n",
              "    <div style='\n",
              "        margin: 10px 0; \n",
              "        padding: 12px 15px; \n",
              "        border-left: 4px solid #4fc3f7; \n",
              "        background: rgba(128, 128, 128, 0.1); \n",
              "        border-radius: 4px;\n",
              "        color: inherit;\n",
              "    '>\n",
              "        <strong style='color: #4fc3f7; font-size: 14px;'>User:</strong><br>\n",
              "        <div style='margin-top: 8px; white-space: pre-wrap; color: inherit; font-size: 14px;'>That sounds perfect! Please create a detailed itinerary for Bali.</div>\n",
              "    </div>\n",
              "    "
            ],
            "text/plain": [
              "<IPython.core.display.HTML object>"
            ]
          },
          "metadata": {},
          "output_type": "display_data"
        },
        {
          "data": {
            "text/html": [
              "\n",
              "    <div style='\n",
              "        margin: 10px 0; \n",
              "        padding: 12px 15px; \n",
              "        border-left: 4px solid #81c784; \n",
              "        background: rgba(128, 128, 128, 0.1); \n",
              "        border-radius: 4px;\n",
              "        color: inherit;\n",
              "    '>\n",
              "        <strong style='color: #81c784; font-size: 14px;'>VacationPlannerAgent:</strong><br>\n",
              "        <div style='margin-top: 8px; white-space: pre-wrap; color: inherit; font-size: 14px;'>### Bali Itinerary\n",
              "\n",
              "#### Day 1: Arrival in Bali\n",
              "- **Morning:** Arrive in Bali and transfer to your hotel. Check-in and freshen up.\n",
              "  - **Estimated Cost:** Taxi/Transfer - $20\n",
              "- **Afternoon:** Relax at the beach or hotel pool.\n",
              "- **Evening:** Enjoy a welcome dinner at a beachside restaurant to kick off your vacation.\n",
              "  - **Estimated Cost:** Dinner - $30 per person\n",
              "\n",
              "#### Day 2: Uluwatu and Water Sports\n",
              "- **Morning:** Head to Tanjung Benoa for water sports like jet skiing, parasailing, and banana boat rides.\n",
              "  - **Estimated Cost:** Water Sports Package - $50 per person\n",
              "- **Afternoon:** Visit Uluwatu Temple and enjoy the beautiful ocean views.\n",
              "  - **Estimated Cost:** Entry Fee - $3\n",
              "- **Evening:** Watch the traditional Kecak Dance performance at Uluwatu.\n",
              "  - **Estimated Cost:** Ticket - $10\n",
              "\n",
              "#### Day 3: Exploring Ubud\n",
              "- **Morning:** Travel to Ubud and visit the Sacred Monkey Forest Sanctuary.\n",
              "  - **Estimated Cost:** Entry Fee - $6\n",
              "- **Afternoon:** Explore Ubud Market for souvenirs and try local Balinese snacks.\n",
              "  - **Estimated Cost:** Market Shopping - $20\n",
              "- **Evening:** Enjoy an authentic Balinese dinner in Ubud.\n",
              "  - **Estimated Cost:** Dinner - $25 per person\n",
              "\n",
              "#### Day 4: Nusa Islands Day Trip\n",
              "- **Morning:** Take a boat trip to Nusa Penida or Nusa Lembongan for a day of exploration.\n",
              "  - **Estimated Cost:** Boat Trip - $40 per person\n",
              "- **Afternoon:** Snorkeling, swimming, and exploring the island.\n",
              "  - **Estimated Cost:** Activities - $30\n",
              "- **Evening:** Return to your hotel for a relaxing evening.\n",
              "\n",
              "#### Day 5: Relaxation and Balinese Culture\n",
              "- **Morning:** Enjoy a spa day with traditional Balinese massages.\n",
              "  - **Estimated Cost:** Spa Package - $50 per person\n",
              "- **Afternoon:** Attend a Balinese cooking class to learn about local cuisine.\n",
              "  - **Estimated Cost:** Cooking Class - $40\n",
              "- **Evening:** Dine at a local restaurant and enjoy a leisurely evening walk.\n",
              "\n",
              "#### Day 6: Beach Day and Local Markets\n",
              "- **Morning:** Spend your morning at one of Bali's beautiful beaches like Seminyak or Kuta.\n",
              "- **Afternoon:** Visit local markets for more shopping and try street food.\n",
              "  - **Estimated Cost:** Market Shopping - $20\n",
              "- **Evening:** Enjoy a sunset dinner on the beach.\n",
              "  - **Estimated Cost:** Dinner - $30 per person\n",
              "\n",
              "#### Day 7: Departure\n",
              "- **Morning:** Enjoy a leisurely breakfast and final beach walk.\n",
              "- **Afternoon:** Check out of your hotel and transfer to the airport for your departure.\n",
              "  - **Estimated Cost:** Taxi/Transfer - $20\n",
              "\n",
              "### Estimated Total Costs:\n",
              "- Accommodation: Approx. $1200\n",
              "- Activities and Meals: Approx. $800\n",
              "- Transfers and Miscellaneous: Approx. $200\n",
              "- Total: Approx. $2200 per person\n",
              "\n",
              "Feel free to let me know if there's anything you'd like to adjust or add!</div>\n",
              "    </div>\n",
              "    "
            ],
            "text/plain": [
              "<IPython.core.display.HTML object>"
            ]
          },
          "metadata": {},
          "output_type": "display_data"
        },
        {
          "name": "stdout",
          "output_type": "stream",
          "text": [
            "📝 Thread has 10 messages\n"
          ]
        },
        {
          "data": {
            "text/html": [
              "\n",
              "    <div style='\n",
              "        margin: 10px 0; \n",
              "        padding: 12px 15px; \n",
              "        border-left: 4px solid #4fc3f7; \n",
              "        background: rgba(128, 128, 128, 0.1); \n",
              "        border-radius: 4px;\n",
              "        color: inherit;\n",
              "    '>\n",
              "        <strong style='color: #4fc3f7; font-size: 14px;'>User:</strong><br>\n",
              "        <div style='margin-top: 8px; white-space: pre-wrap; color: inherit; font-size: 14px;'>Actually, I've changed my mind. I'd prefer to go to the Greek islands instead. Can you create a new itinerary?</div>\n",
              "    </div>\n",
              "    "
            ],
            "text/plain": [
              "<IPython.core.display.HTML object>"
            ]
          },
          "metadata": {},
          "output_type": "display_data"
        },
        {
          "data": {
            "text/html": [
              "\n",
              "    <div style='\n",
              "        margin: 10px 0; \n",
              "        padding: 12px 15px; \n",
              "        border-left: 4px solid #81c784; \n",
              "        background: rgba(128, 128, 128, 0.1); \n",
              "        border-radius: 4px;\n",
              "        color: inherit;\n",
              "    '>\n",
              "        <strong style='color: #81c784; font-size: 14px;'>VacationPlannerAgent:</strong><br>\n",
              "        <div style='margin-top: 8px; white-space: pre-wrap; color: inherit; font-size: 14px;'>### Greek Islands Itinerary\n",
              "\n",
              "#### Day 1: Arrival in Santorini\n",
              "- **Morning:** Arrive in Santorini and transfer to your hotel. Check-in and get settled.\n",
              "  - **Estimated Cost:** Taxi/Transfer - $30\n",
              "- **Afternoon:** Relax at the hotel or explore Fira town.\n",
              "- **Evening:** Enjoy a welcome dinner with views of the caldera.\n",
              "  - **Estimated Cost:** Dinner - $40 per person\n",
              "\n",
              "#### Day 2: Exploring Santorini\n",
              "- **Morning:** Visit the iconic Blue Domes in Oia and take plenty of photos.\n",
              "- **Afternoon:** Explore the ruins at the Ancient Thera or Akrotiri.\n",
              "  - **Estimated Cost:** Entry Fee - $12\n",
              "- **Evening:** Watch the famous Santorini sunset from Oia or Imerovigli.\n",
              "  - **Estimated Cost:** Sunset Viewpoint - Free\n",
              "\n",
              "#### Day 3: Sailing Tour\n",
              "- **Morning:** Go on a catamaran sailing tour around Santorini. Includes stops for swimming and snorkeling.\n",
              "  - **Estimated Cost:** Sailing Tour - $100 per person\n",
              "- **Afternoon:** Enjoy lunch onboard the catamaran.\n",
              "  - **Included in the tour**\n",
              "- **Evening:** Relax and have dinner at a seaside taverna.\n",
              "  - **Estimated Cost:** Dinner - $35 per person\n",
              "\n",
              "#### Day 4: Travel to Mykonos\n",
              "- **Morning:** Take a ferry from Santorini to Mykonos.\n",
              "  - **Estimated Cost:** Ferry Ticket - $60 per person\n",
              "- **Afternoon:** Check in to your hotel and explore Mykonos Town.\n",
              "- **Evening:** Experience the vibrant nightlife in Mykonos.\n",
              "  - **Estimated Cost:** Dinner and nightlife - $50 per person\n",
              "\n",
              "#### Day 5: Beach Day in Mykonos\n",
              "- **Morning:** Relax on one of Mykonos' beautiful beaches like Paradise Beach or Platis Gialos.\n",
              "- **Afternoon:** Enjoy water sports such as windsurfing or jet skiing.\n",
              "  - **Estimated Cost:** Water Sports Package - $60 per person\n",
              "- **Evening:** Dinner at a beachside restaurant with live music.\n",
              "  - **Estimated Cost:** Dinner - $40 per person\n",
              "\n",
              "#### Day 6: Exploring Mykonos\n",
              "- **Morning:** Visit the charming village of Ano Mera and the Monastery of Panagia Tourliani.\n",
              "  - **Estimated Cost:** Entry Fee - $5\n",
              "- **Afternoon:** Stroll through the narrow streets of Mykonos Town and visit the famous windmills.\n",
              "- **Evening:** Dine at a traditional Greek taverna and enjoy local cuisine.\n",
              "  - **Estimated Cost:** Dinner - $35 per person\n",
              "\n",
              "#### Day 7: Departure\n",
              "- **Morning:** Enjoy a leisurely breakfast and some last-minute shopping.\n",
              "- **Afternoon:** Check out of your hotel and transfer to the airport for your departure.\n",
              "  - **Estimated Cost:** Taxi/Transfer - $30\n",
              "\n",
              "### Estimated Total Costs:\n",
              "- Accommodation: Approx. $1400\n",
              "- Activities and Meals: Approx. $900\n",
              "- Transfers and Miscellaneous: Approx. $250\n",
              "- Total: Approx. $2550 per person\n",
              "\n",
              "Let me know if you would like any changes or additional details!</div>\n",
              "    </div>\n",
              "    "
            ],
            "text/plain": [
              "<IPython.core.display.HTML object>"
            ]
          },
          "metadata": {},
          "output_type": "display_data"
        },
        {
          "name": "stdout",
          "output_type": "stream",
          "text": [
            "📝 Thread has 14 messages\n"
          ]
        },
        {
          "data": {
            "text/html": [
              "\n",
              "    <div style='\n",
              "        margin: 10px 0; \n",
              "        padding: 12px 15px; \n",
              "        border-left: 4px solid #4fc3f7; \n",
              "        background: rgba(128, 128, 128, 0.1); \n",
              "        border-radius: 4px;\n",
              "        color: inherit;\n",
              "    '>\n",
              "        <strong style='color: #4fc3f7; font-size: 14px;'>User:</strong><br>\n",
              "        <div style='margin-top: 8px; white-space: pre-wrap; color: inherit; font-size: 14px;'>What's the weather like there?</div>\n",
              "    </div>\n",
              "    "
            ],
            "text/plain": [
              "<IPython.core.display.HTML object>"
            ]
          },
          "metadata": {},
          "output_type": "display_data"
        },
        {
          "data": {
            "text/html": [
              "\n",
              "    <div style='\n",
              "        margin: 10px 0; \n",
              "        padding: 12px 15px; \n",
              "        border-left: 4px solid #81c784; \n",
              "        background: rgba(128, 128, 128, 0.1); \n",
              "        border-radius: 4px;\n",
              "        color: inherit;\n",
              "    '>\n",
              "        <strong style='color: #81c784; font-size: 14px;'>VacationPlannerAgent:</strong><br>\n",
              "        <div style='margin-top: 8px; white-space: pre-wrap; color: inherit; font-size: 14px;'>The Greek Islands generally enjoy a Mediterranean climate, characterized by warm, dry summers and mild, wet winters. Here's a breakdown of weather conditions:\n",
              "\n",
              "### Summer (June to August)\n",
              "- **Temperature:** 25-35°C (77-95°F)\n",
              "- **Weather:** Hot and sunny with clear skies. Perfect for beach days and outdoor activities.\n",
              "- **Rain:** Very rare during the summer months.\n",
              "\n",
              "### Late Spring (May) and Early Autumn (September to October)\n",
              "- **Temperature:** 20-30°C (68-86°F)\n",
              "- **Weather:** Warm with pleasant sun, ideal for sightseeing and exploring.\n",
              "- **Rain:** Minimal rain, with occasional showers.\n",
              "\n",
              "### Winter (November to April)\n",
              "- **Temperature:** 10-20°C (50-68°F)\n",
              "- **Weather:** Mild temperatures with occasional rain. Less crowded but some attractions and amenities might not be fully operational.\n",
              "\n",
              "For a vacation centered around beach activities and exploring local markets, visiting from late spring to early autumn (May-October) usually offers the most favorable weather conditions.</div>\n",
              "    </div>\n",
              "    "
            ],
            "text/plain": [
              "<IPython.core.display.HTML object>"
            ]
          },
          "metadata": {},
          "output_type": "display_data"
        },
        {
          "name": "stdout",
          "output_type": "stream",
          "text": [
            "📝 Thread has 16 messages\n"
          ]
        },
        {
          "data": {
            "text/html": [
              "\n",
              "    <div style='\n",
              "        margin: 10px 0; \n",
              "        padding: 12px 15px; \n",
              "        border-left: 4px solid #4fc3f7; \n",
              "        background: rgba(128, 128, 128, 0.1); \n",
              "        border-radius: 4px;\n",
              "        color: inherit;\n",
              "    '>\n",
              "        <strong style='color: #4fc3f7; font-size: 14px;'>User:</strong><br>\n",
              "        <div style='margin-top: 8px; white-space: pre-wrap; color: inherit; font-size: 14px;'>What should I pack?</div>\n",
              "    </div>\n",
              "    "
            ],
            "text/plain": [
              "<IPython.core.display.HTML object>"
            ]
          },
          "metadata": {},
          "output_type": "display_data"
        },
        {
          "data": {
            "text/html": [
              "\n",
              "    <div style='\n",
              "        margin: 10px 0; \n",
              "        padding: 12px 15px; \n",
              "        border-left: 4px solid #81c784; \n",
              "        background: rgba(128, 128, 128, 0.1); \n",
              "        border-radius: 4px;\n",
              "        color: inherit;\n",
              "    '>\n",
              "        <strong style='color: #81c784; font-size: 14px;'>VacationPlannerAgent:</strong><br>\n",
              "        <div style='margin-top: 8px; white-space: pre-wrap; color: inherit; font-size: 14px;'>For a trip to the Greek Islands, here's a packing list to make sure you have everything you need:\n",
              "\n",
              "### Clothing:\n",
              "- **Lightweight Clothing:** Breathable fabrics like cotton and linen.\n",
              "- **Swimwear:** At least 2-3 swimsuits for beach and pool days.\n",
              "- **Beach Cover-Up:** For transitioning from beach to town.\n",
              "- **Sun hat:** To protect yourself from the sun.\n",
              "- **Sunglasses:** UV protection to shield your eyes.\n",
              "- **Comfortable Footwear:** Sandals for beach, comfortable shoes for walking around towns.\n",
              "- **Evening Wear:** Casual dresses or nice outfits for dinners and nightlife.\n",
              "- **Light Jacket or Sweater:** For cooler evenings, especially in late spring or autumn.\n",
              "\n",
              "### Accessories:\n",
              "- **Beach Bag:** To carry essentials for your beach days.\n",
              "- **Sunscreen:** High SPF to protect your skin from the Mediterranean sun.\n",
              "- **Reusable Water Bottle:** Stay hydrated throughout the day.\n",
              "- **Travel Adapter:** Greece uses the Type C and Type F plugs, 230V.\n",
              "\n",
              "### Essentials:\n",
              "- **Passport and Travel Documents:** Make sure they are valid and up-to-date.\n",
              "- **Photocopies of Documents:** In case of loss or theft.\n",
              "- **Credit/Debit Cards and Cash:** Euros for local transactions.\n",
              "- **Personal Medications:** Bring enough for the duration of your trip.\n",
              "- **First Aid Kit:** Band-aids, antiseptic wipes, pain relievers.\n",
              "- **Toiletries:** Shampoo, conditioner, shower gel, toothbrush, and toothpaste.\n",
              "\n",
              "### Technology:\n",
              "- **Camera or Smartphone:** For capturing memories.\n",
              "- **Chargers:** For your electronic devices.\n",
              "- **Portable Charger:** To keep your devices powered on the go.\n",
              "\n",
              "### Extras:\n",
              "- **Guidebook or Map:** To help you navigate and explore.\n",
              "- **Snorkeling Gear:** If you prefer to use your own for underwater activities.\n",
              "- **Journal and Pen:** To document your adventures.\n",
              "  \n",
              "### Optional:\n",
              "- **Travel Pillow:** For comfortable flights.\n",
              "- **Books or E-Reader:** For leisure reading.\n",
              "\n",
              "Make sure to pack light and carry only what you need to ensure a stress-free and enjoyable trip!</div>\n",
              "    </div>\n",
              "    "
            ],
            "text/plain": [
              "<IPython.core.display.HTML object>"
            ]
          },
          "metadata": {},
          "output_type": "display_data"
        },
        {
          "name": "stdout",
          "output_type": "stream",
          "text": [
            "📝 Thread has 18 messages\n"
          ]
        },
        {
          "data": {
            "text/html": [
              "\n",
              "    <div style='\n",
              "        margin: 10px 0; \n",
              "        padding: 12px 15px; \n",
              "        border-left: 4px solid #4fc3f7; \n",
              "        background: rgba(128, 128, 128, 0.1); \n",
              "        border-radius: 4px;\n",
              "        color: inherit;\n",
              "    '>\n",
              "        <strong style='color: #4fc3f7; font-size: 14px;'>User:</strong><br>\n",
              "        <div style='margin-top: 8px; white-space: pre-wrap; color: inherit; font-size: 14px;'>Are there any cultural customs I should know about?</div>\n",
              "    </div>\n",
              "    "
            ],
            "text/plain": [
              "<IPython.core.display.HTML object>"
            ]
          },
          "metadata": {},
          "output_type": "display_data"
        },
        {
          "data": {
            "text/html": [
              "\n",
              "    <div style='\n",
              "        margin: 10px 0; \n",
              "        padding: 12px 15px; \n",
              "        border-left: 4px solid #81c784; \n",
              "        background: rgba(128, 128, 128, 0.1); \n",
              "        border-radius: 4px;\n",
              "        color: inherit;\n",
              "    '>\n",
              "        <strong style='color: #81c784; font-size: 14px;'>VacationPlannerAgent:</strong><br>\n",
              "        <div style='margin-top: 8px; white-space: pre-wrap; color: inherit; font-size: 14px;'>Yes, being aware of the cultural customs in the Greek Islands will help you have a more enjoyable and respectful experience. Here are some key points to remember:\n",
              "\n",
              "### Greetings and Social Etiquette:\n",
              "- **Greetings:** A handshake, smile, and direct eye contact are common when meeting someone for the first time. Friends often greet each other with a cheek kiss (kissing both cheeks).\n",
              "- **Use of Titles:** Address people with their title and surname. First names are typically used once you're better acquainted.\n",
              "- **Politeness:** Showing respect and politeness, especially towards elders, is important. Using \"please\" (parakaló) and \"thank you\" (efcharistó) is appreciated.\n",
              "\n",
              "### Attire:\n",
              "- **Dress Modestly in Churches:** When visiting churches or monasteries, dress conservatively. Men should avoid wearing shorts, and women should cover their shoulders and knees.\n",
              "- **Beachwear:** It’s acceptable to wear beachwear at the beach or pool, but make sure to cover up when you leave those areas.\n",
              "\n",
              "### Dining Etiquette:\n",
              "- **Tavernas:** Meals are typically a leisurely affair. Feel free to take your time and enjoy the experience.\n",
              "- **Sharing Plates:** It’s common to share dishes, especially appetizers (mezedes).\n",
              "- **Starting the Meal:** Wait for the host to start eating before you begin.\n",
              "- **Compliments:** Complimenting the host or chef is appreciated. “Efcharistó” (thank you) is often used.\n",
              "- **Tipping:** Tipping is customary but not obligatory. Leaving around 5-10% is a nice gesture.\n",
              "\n",
              "### Customs and Traditions:\n",
              "- **Greek Orthodox:** The majority of Greeks are Greek Orthodox. Major religious events, including Easter, are celebrated with great enthusiasm.\n",
              "- **Name Days:** Often more important than birthdays. People celebrate the feast day of the saint they are named after.\n",
              "- **Siesta Time:** Many locals take a rest or nap in the afternoon (usually between 2 PM – 5 PM). Some shops and businesses may close during this time.\n",
              "\n",
              "### Gestures:\n",
              "- **Nod of the Head:** Greeks nod their head upward for ‘no’ and downward for ‘yes’, which might be the opposite of what you're used to.\n",
              "- **Hand Gestures:** Avoid using an open palm facing outward directly in someone’s face, as it’s considered offensive.\n",
              "\n",
              "### Respecting Privacy:\n",
              "- **Asking Questions:** Greeks can be quite direct and may ask personal questions. This is usually out of friendliness and interest.\n",
              "- **Personal Space:** Greeks often stand close to each other while chatting.\n",
              "\n",
              "By keeping these customs and traditions in mind, you'll demonstrate respect and appreciation for the local culture, enhancing your travel experience. Enjoy your trip to the Greek Islands!</div>\n",
              "    </div>\n",
              "    "
            ],
            "text/plain": [
              "<IPython.core.display.HTML object>"
            ]
          },
          "metadata": {},
          "output_type": "display_data"
        },
        {
          "name": "stdout",
          "output_type": "stream",
          "text": [
            "📝 Thread has 20 messages\n"
          ]
        },
        {
          "data": {
            "text/html": [
              "\n",
              "    <div style='\n",
              "        margin: 10px 0; \n",
              "        padding: 12px 15px; \n",
              "        border-left: 4px solid #4fc3f7; \n",
              "        background: rgba(128, 128, 128, 0.1); \n",
              "        border-radius: 4px;\n",
              "        color: inherit;\n",
              "    '>\n",
              "        <strong style='color: #4fc3f7; font-size: 14px;'>User:</strong><br>\n",
              "        <div style='margin-top: 8px; white-space: pre-wrap; color: inherit; font-size: 14px;'>What's the best way to get around?</div>\n",
              "    </div>\n",
              "    "
            ],
            "text/plain": [
              "<IPython.core.display.HTML object>"
            ]
          },
          "metadata": {},
          "output_type": "display_data"
        },
        {
          "data": {
            "text/html": [
              "\n",
              "    <div style='\n",
              "        margin: 10px 0; \n",
              "        padding: 12px 15px; \n",
              "        border-left: 4px solid #81c784; \n",
              "        background: rgba(128, 128, 128, 0.1); \n",
              "        border-radius: 4px;\n",
              "        color: inherit;\n",
              "    '>\n",
              "        <strong style='color: #81c784; font-size: 14px;'>VacationPlannerAgent:</strong><br>\n",
              "        <div style='margin-top: 8px; white-space: pre-wrap; color: inherit; font-size: 14px;'>Getting around the Greek Islands can be both enjoyable and convenient with several transportation options available. Here are the best ways to get around:\n",
              "\n",
              "### 1. **Ferries and Boats:**\n",
              "   - **Ferries:** The primary mode of transportation between islands. Companies like Blue Star Ferries, Hellenic Seaways, and SeaJets offer regular services.\n",
              "     - **Tips:** Book tickets in advance during peak season. Ferries are more scenic but slower than high-speed boats.\n",
              "   - **High-Speed Boats:** Faster but more expensive than regular ferries. Ideal for longer distances or when short on time.\n",
              "\n",
              "### 2. **Flights:**\n",
              "   - **Domestic Flights:** Many islands have airports with regular flights from Athens and other major cities. Airlines like Olympic Air and Aegean Airlines offer frequent services.\n",
              "     - **Tips:** Great for saving time when traveling long distances (e.g., Athens to Santorini).\n",
              "\n",
              "### 3. **Rental Cars and Scooters:**\n",
              "   - **Rental Cars:** Ideal for exploring larger islands like Crete, Naxos, or Santorini at your own pace.\n",
              "     - **Tips:** Rent from reputable companies. International Driving Permit (IDP) may be required.\n",
              "   - **Scooters/ATVs:** Popular for short distances and exploring smaller islands. Fun and convenient but exercise caution.\n",
              "     - **Tips:** Wear helmets and ensure the vehicle is in good condition.\n",
              "\n",
              "### 4. **Local Buses:**\n",
              "   - **KTEL Bus Services:** Affordable and convenient way to get around larger islands. Services connect main towns, beaches, and tourist spots.\n",
              "     - **Tips:** Check schedules in advance as they may vary, especially outside peak season.\n",
              "\n",
              "### 5. **Taxis and Ride-Sharing:**\n",
              "   - **Taxis:** Readily available, especially in major towns and near ports/airports. Ensure the meter is running or agree on a fare beforehand.\n",
              "   - **Ride-Sharing:** Services are limited but can be found in larger towns.\n",
              "\n",
              "### 6. **Cycling:**\n",
              "   - **Bicycles:** Ideal for fitness enthusiasts and exploring at a leisurely pace. Available for rent in many places, especially on flatter islands.\n",
              "     - **Tips:** Carry water, wear sunscreen, and be mindful of the heat and traffic conditions.\n",
              "\n",
              "### 7. **Walking:**\n",
              "   - **Walking:** Many towns and villages are best explored on foot. Narrow streets, scenic pathways, and pedestrian-friendly areas make walking enjoyable.\n",
              "     - **Tips:** Wear comfortable shoes, carry water, and be prepared for some inclines in places like Santorini and Mykonos.\n",
              "\n",
              "### Getting Around in Specific Islands:\n",
              "- **Santorini:** Buses connect Fira with all other parts of the island. Renting a car or ATV is also popular.\n",
              "- **Mykonos:** Buses, taxis, and scooters are common. Walking around Mykonos Town is easy.\n",
              "- **Crete:** Renting a car is the most convenient way to explore this large island. Buses also cover major routes.\n",
              "\n",
              "By choosing the transportation mode that best suits your needs and preferences, you'll be able to explore the Greek Islands more efficiently and comfortably. Enjoy your travels!</div>\n",
              "    </div>\n",
              "    "
            ],
            "text/plain": [
              "<IPython.core.display.HTML object>"
            ]
          },
          "metadata": {},
          "output_type": "display_data"
        },
        {
          "name": "stdout",
          "output_type": "stream",
          "text": [
            "📝 Thread has 22 messages\n",
            "   ⚠️ Thread length (22) exceeds threshold (20)\n",
            "\n",
            "--- Token Usage Analysis ---\n"
          ]
        },
        {
          "data": {
            "text/html": [
              "<div style='font-family: monospace; background: #2d2d2d; color: #f0f0f0; padding: 15px; border-radius: 8px; border: 1px solid #444;'><h4 style='color: #4fc3f7; margin-top: 0;'>📊 Token Usage Analysis</h4><pre style='color: #f0f0f0; margin: 0;'><span style='color: #81c784;'>Prompt Tokens per Message (shows conversation context size):</span>\n",
              "<span style='color: #aaa;'>Msg  1:</span> <span style='color: #4fc3f7;'>████</span> <span style='color: #ffd93d;'>340 tokens</span>\n",
              "<span style='color: #aaa;'>Msg  2:</span> <span style='color: #4fc3f7;'>████████</span> <span style='color: #ffd93d;'>575 tokens</span>\n",
              "<span style='color: #aaa;'>Msg  3:</span> <span style='color: #4fc3f7;'>██████████</span> <span style='color: #ffd93d;'>718 tokens</span>\n",
              "<span style='color: #aaa;'>Msg  4:</span> <span style='color: #4fc3f7;'>█████████████████████</span> <span style='color: #ffd93d;'>1,493 tokens</span>\n",
              "<span style='color: #aaa;'>Msg  5:</span> <span style='color: #4fc3f7;'>███████████████████████████████</span> <span style='color: #ffd93d;'>2,188 tokens</span>\n",
              "<span style='color: #aaa;'>Msg  6:</span> <span style='color: #4fc3f7;'>██████████████████████████████████</span> <span style='color: #ffd93d;'>2,417 tokens</span>\n",
              "<span style='color: #aaa;'>Msg  7:</span> <span style='color: #4fc3f7;'>█████████████████████████████████████████</span> <span style='color: #ffd93d;'>2,882 tokens</span>\n",
              "<span style='color: #aaa;'>Msg  8:</span> <span style='color: #4fc3f7;'>██████████████████████████████████████████████████</span> <span style='color: #ffd93d;'>3,466 tokens</span>\n",
              "\n",
              "</pre></div>"
            ],
            "text/plain": [
              "<IPython.core.display.HTML object>"
            ]
          },
          "metadata": {},
          "output_type": "display_data"
        },
        {
          "name": "stdout",
          "output_type": "stream",
          "text": [
            "\n",
            "--- Final Scratchpad Contents ---\n"
          ]
        },
        {
          "data": {
            "text/markdown": [],
            "text/plain": [
              "<IPython.core.display.Markdown object>"
            ]
          },
          "metadata": {},
          "output_type": "display_data"
        }
      ],
      "source": [
        "# Define the conversation flow\n",
        "user_inputs = [\n",
        "    \"I'm thinking about planning a vacation. Can you help me?\",\n",
        "    \"I love beach destinations with great food and culture. I enjoy water sports, exploring local markets, and trying authentic cuisine. My budget is around $3000 per person for a week.\",\n",
        "    \"That sounds perfect! Please create a detailed itinerary for Bali.\",\n",
        "    \"Actually, I've changed my mind. I'd prefer to go to the Greek islands instead. Can you create a new itinerary?\",\n",
        "    \"What's the weather like there?\",\n",
        "    \"What should I pack?\",\n",
        "    \"Are there any cultural customs I should know about?\",\n",
        "    \"What's the best way to get around?\"\n",
        "]\n",
        "\n",
        "\n",
        "async def run_vacation_planning():\n",
        "    \"\"\"Run the vacation planning conversation with token tracking and history reduction\"\"\"\n",
        "\n",
        "    # Create thread with history reducer\n",
        "    thread = ChatHistoryAgentThread(chat_history=history_reducer)\n",
        "    message_count = 0\n",
        "\n",
        "    print(\"🚀 Starting Vacation Planning Session\\n\")\n",
        "\n",
        "    # Process conversation\n",
        "    for i, user_input in enumerate(user_inputs):\n",
        "        message_count += 1\n",
        "        display_message(\"User\", user_input, \"#4fc3f7\")  # Blue for user\n",
        "\n",
        "        # Get agent response\n",
        "        full_response = \"\"\n",
        "        usage = None\n",
        "\n",
        "        async for response in agent.invoke(\n",
        "            messages=user_input,\n",
        "            thread=thread,\n",
        "        ):\n",
        "            if response.content:\n",
        "                full_response += str(response.content)\n",
        "            if response.metadata.get(\"usage\"):\n",
        "                usage = response.metadata[\"usage\"]\n",
        "            thread = response.thread\n",
        "\n",
        "        display_message(f\"{agent.name}\", full_response,\n",
        "                        \"#81c784\")  # Green for agent\n",
        "\n",
        "        # Track tokens with thread length\n",
        "        if usage:\n",
        "            token_tracker.add_usage(usage, message_count, len(thread))\n",
        "\n",
        "        # Check thread status\n",
        "        print(f\"📝 Thread has {len(thread)} messages\")\n",
        "\n",
        "        # Show message types to understand what's in the thread\n",
        "        if i == 0:  # Show details for first message to understand structure\n",
        "            message_types = []\n",
        "            async for msg in thread.get_messages():\n",
        "                msg_type = msg.role.value if hasattr(\n",
        "                    msg.role, 'value') else str(msg.role)\n",
        "                message_types.append(msg_type)\n",
        "            print(f\"   Message types in thread: {message_types}\")\n",
        "\n",
        "        # Check if reduction happened\n",
        "        if len(thread) > REDUCER_THRESHOLD:\n",
        "            print(\n",
        "                f\"   ⚠️ Thread length ({len(thread)}) exceeds threshold ({REDUCER_THRESHOLD})\")\n",
        "\n",
        "        # Attempt reduction manually to see if it works\n",
        "        is_reduced = await thread.reduce()\n",
        "        if is_reduced:\n",
        "            print(\n",
        "                f\"\\n🔄 HISTORY REDUCED! Thread now has {len(thread)} messages\\n\")\n",
        "            token_tracker.mark_reduction(message_count + 1)\n",
        "\n",
        "            # Show summary if available\n",
        "            async for msg in thread.get_messages():\n",
        "                if msg.metadata and msg.metadata.get(\"__summary__\"):\n",
        "                    display_message(\"System Summary\", str(\n",
        "                        msg.content), \"#ff6b6b\")  # Red for system summary\n",
        "                    break\n",
        "\n",
        "    # Display final token usage chart\n",
        "    print(\"\\n--- Token Usage Analysis ---\")\n",
        "    token_tracker.display_chart()\n",
        "\n",
        "    # Show final scratchpad contents\n",
        "    print(\"\\n--- Final Scratchpad Contents ---\")\n",
        "    scratchpad_contents = scratchpad_plugin.read_scratchpad()\n",
        "    display(Markdown(scratchpad_contents))\n",
        "\n",
        "    return thread\n",
        "\n",
        "# Run the conversation\n",
        "thread = await run_vacation_planning()"
      ]
    },
    {
      "cell_type": "markdown",
      "metadata": {},
      "source": [
        "## Analyzing the Results\n",
        "\n",
        "Let's analyze what happened during our conversation:"
      ]
    },
    {
      "cell_type": "code",
      "execution_count": 19,
      "metadata": {},
      "outputs": [
        {
          "name": "stdout",
          "output_type": "stream",
          "text": [
            "📊 Total Token Usage Summary\n",
            "\n",
            "Total Prompt Tokens: 42,084\n",
            "Total Completion Tokens: 8,333\n",
            "Total Tokens Used: 50,417\n",
            "\n",
            "💡 Note: The reduction impact is shown in the chart above.\n",
            "Look for the dramatic drop in prompt tokens after the REDUCTION marker.\n",
            "This shows how chat history summarization reduces the context size for future messages.\n"
          ]
        }
      ],
      "source": [
        "# Analyze token usage\n",
        "print(\"📊 Total Token Usage Summary\\n\")\n",
        "print(f\"Total Prompt Tokens: {token_tracker.total_usage.prompt_tokens:,}\")\n",
        "print(\n",
        "    f\"Total Completion Tokens: {token_tracker.total_usage.completion_tokens:,}\")\n",
        "print(\n",
        "    f\"Total Tokens Used: {token_tracker.total_usage.prompt_tokens + token_tracker.total_usage.completion_tokens:,}\")\n",
        "\n",
        "print(\"\\n💡 Note: The reduction impact is shown in the chart above.\")\n",
        "print(\"Look for the dramatic drop in prompt tokens after the REDUCTION marker.\")\n",
        "print(\"This shows how chat history summarization reduces the context size for future messages.\")"
      ]
    },
    {
      "cell_type": "markdown",
      "metadata": {},
      "source": [
        "## Key Takeaways\n",
        "\n",
        "### 1. Chat History Reduction\n",
        "- **Automatic Triggering**: Reduction happens when message count exceeds threshold\n",
        "- **Token Savings**: Significant reduction in token usage after summarization\n",
        "- **Context Preservation**: Important information is retained in summaries\n",
        "\n",
        "### 2. Agent Scratchpad Benefits\n",
        "- **Persistent Memory**: User preferences survive history reduction\n",
        "- **Task Tracking**: Agent maintains record of completed work\n",
        "- **Improved Experience**: No need to repeat preferences\n",
        "\n",
        "### 3. Token Usage Patterns\n",
        "- **Linear Growth**: Tokens increase with each message\n",
        "- **Dramatic Drop**: Reduction significantly decreases token count\n",
        "- **Sustainable Conversations**: Enables longer interactions within limits"
      ]
    },
    {
      "cell_type": "markdown",
      "metadata": {},
      "source": [
        "## Cleanup\n",
        "\n",
        "Clean up the scratchpad file created during this demo:"
      ]
    },
    {
      "cell_type": "code",
      "execution_count": null,
      "metadata": {},
      "outputs": [],
      "source": [
        "# Optional: Clean up the scratchpad file\n",
        "# Uncomment the next line to delete the scratchpad\n",
        "# Path(\"vacation_agent_scratchpad.md\").unlink(missing_ok=True)\n",
        "\n",
        "print(\"✅ Demo complete! The scratchpad file 'vacation_agent_scratchpad.md' has been preserved for your review.\")"
      ]
    },
    {
      "cell_type": "markdown",
      "metadata": {},
      "source": [
        "# Summary\n",
        "\n",
        "Congratulations! You've successfully implemented an AI agent with advanced context management capabilities:\n",
        "\n",
        "## What You've Learned:\n",
        "- **Chat History Reduction**: Automatically summarize conversations to manage token limits\n",
        "- **Agent Scratchpad**: Implement persistent memory for user preferences and completed tasks\n",
        "- **Token Management**: Track and optimize token usage in long conversations\n",
        "- **Context Preservation**: Maintain important information across conversation reductions\n",
        "\n",
        "## Real-World Applications:\n",
        "- **Customer Service Bots**: Remember customer preferences across sessions\n",
        "- **Personal Assistants**: Track ongoing projects and user habits\n",
        "- **Educational Tutors**: Maintain student progress and learning preferences\n",
        "- **Healthcare Assistants**: Keep patient history while respecting token limits\n",
        "\n",
        "## Next Steps:\n",
        "- Implement more sophisticated scratchpad schemas\n",
        "- Add database storage for multi-user scenarios\n",
        "- Create custom reduction strategies for domain-specific needs\n",
        "- Combine with vector databases for semantic memory search\n",
        "- Build agents that can resume conversations days later with full context"
      ]
    }
  ],
  "metadata": {
    "kernelspec": {
      "display_name": ".venv (3.12.11)",
      "language": "python",
      "name": "python3"
    },
    "language_info": {
      "codemirror_mode": {
        "name": "ipython",
        "version": 3
      },
      "file_extension": ".py",
      "mimetype": "text/x-python",
      "name": "python",
      "nbconvert_exporter": "python",
      "pygments_lexer": "ipython3",
      "version": "3.12.11"
    }
  },
  "nbformat": 4,
  "nbformat_minor": 4
}
